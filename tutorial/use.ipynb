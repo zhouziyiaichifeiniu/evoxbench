{
 "cells": [
  {
   "cell_type": "code",
   "execution_count": 1,
   "metadata": {
    "collapsed": true
   },
   "outputs": [
    {
     "name": "stdout",
     "output_type": "stream",
     "text": [
      "Configurating EvoXBench...\n",
      "Auto Configuration Succeed!, Using database C:\\Users\\admin\\Desktop\\evoxbench\\database.\n",
      "Configuration Succeed!\n"
     ]
    }
   ],
   "source": [
    "print('Configurating EvoXBench...')\n",
    "from evoxbench.database.init import config\n",
    "# make sure you update these two paths accordingly, and the first path should be for database file\n",
    "config(\"C:\\\\Users\\\\admin\\\\Desktop\\\\evoxbench\\\\database\",\n",
    "       \"C:\\\\Users\\\\admin\\\\Desktop\\\\evoxbench\\\\data\")"
   ]
  },
  {
   "cell_type": "code",
   "execution_count": 2,
   "outputs": [
    {
     "name": "stdout",
     "output_type": "stream",
     "text": [
      "Auto Configuration Succeed!, Using database C:\\Users\\admin\\Desktop\\evoxbench\\database.\n"
     ]
    }
   ],
   "source": [
    "from evoxbench.benchmarks import ResNet50DBenchmark\n",
    "objs = 'err&params'\n",
    "benchmark = ResNet50DBenchmark(objs=objs)\n"
   ],
   "metadata": {
    "collapsed": false
   }
  },
  {
   "cell_type": "code",
   "execution_count": 3,
   "outputs": [
    {
     "name": "stdout",
     "output_type": "stream",
     "text": [
      "Randomly create 1 architectures:\n",
      "[{'r': 144, 'w': [1, 0, 2, 2, 1, 1], 'e': [0.2, 0.25, 0.2, 0.25, 0.2, 0.35, 0.2, 0.35, 0.35, 0.35, 0.35, 0.2, 0.35, 0.25, 0.35, 0.2, 0.25, 0.35], 'd': [2, 2, 2, 1, 1]}]\n"
     ]
    }
   ],
   "source": [
    "N = 1\n",
    "archs = benchmark.search_space.sample(N)\n",
    "print('Randomly create {} architectures:'.format(N))\n",
    "print(archs)"
   ],
   "metadata": {
    "collapsed": false
   }
  },
  {
   "cell_type": "code",
   "execution_count": 4,
   "outputs": [
    {
     "name": "stdout",
     "output_type": "stream",
     "text": [
      "Encode architectures to decision variables X: \n",
      "[[1 2 1 3 3 2 2 1 2 1 2 1 3 1 3 3 3 3 1 3 0 3 1 2 0]]\n"
     ]
    }
   ],
   "source": [
    "X = benchmark.search_space.encode(archs)\n",
    "print('Encode architectures to decision variables X: ')\n",
    "print(X)"
   ],
   "metadata": {
    "collapsed": false
   }
  },
  {
   "cell_type": "code",
   "execution_count": 5,
   "outputs": [
    {
     "name": "stdout",
     "output_type": "stream",
     "text": [
      "Evaluating architectures for objectives: err&params\n",
      "[[2.38724626e-01 1.96669760e+07]]\n"
     ]
    }
   ],
   "source": [
    "true_eval = True\n",
    "F = benchmark.evaluate(X, true_eval=true_eval)\n",
    "print(\"Evaluating architectures for objectives: {}\".format(objs))\n",
    "print(F)"
   ],
   "metadata": {
    "collapsed": false
   }
  },
  {
   "cell_type": "code",
   "execution_count": 5,
   "outputs": [],
   "source": [],
   "metadata": {
    "collapsed": false
   }
  }
 ],
 "metadata": {
  "kernelspec": {
   "display_name": "Python 3",
   "language": "python",
   "name": "python3"
  },
  "language_info": {
   "codemirror_mode": {
    "name": "ipython",
    "version": 2
   },
   "file_extension": ".py",
   "mimetype": "text/x-python",
   "name": "python",
   "nbconvert_exporter": "python",
   "pygments_lexer": "ipython2",
   "version": "2.7.6"
  }
 },
 "nbformat": 4,
 "nbformat_minor": 0
}
